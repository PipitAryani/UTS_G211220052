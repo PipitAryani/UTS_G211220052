{
  "nbformat": 4,
  "nbformat_minor": 0,
  "metadata": {
    "colab": {
      "provenance": [],
      "authorship_tag": "ABX9TyPNR/RtDctXd5aYzlmHpPqX",
      "include_colab_link": true
    },
    "kernelspec": {
      "name": "python3",
      "display_name": "Python 3"
    },
    "language_info": {
      "name": "python"
    }
  },
  "cells": [
    {
      "cell_type": "markdown",
      "metadata": {
        "id": "view-in-github",
        "colab_type": "text"
      },
      "source": [
        "<a href=\"https://colab.research.google.com/github/PipitAryani/UTS_G211220052/blob/main/UTS_g211220052.ipynb\" target=\"_parent\"><img src=\"https://colab.research.google.com/assets/colab-badge.svg\" alt=\"Open In Colab\"/></a>"
      ]
    },
    {
      "cell_type": "code",
      "execution_count": 7,
      "metadata": {
        "id": "P-zS8ZJuUgzb",
        "colab": {
          "base_uri": "https://localhost:8080/"
        },
        "outputId": "275eebaa-9f4a-4da1-b66a-99a8e1c03ceb"
      },
      "outputs": [
        {
          "output_type": "stream",
          "name": "stdout",
          "text": [
            "Jalur terpendek: i\n",
            "Total jarak terpendek: 0\n"
          ]
        }
      ],
      "source": [
        "import random\n",
        "\n",
        "# Definisikan grafik jarak antar lokasi\n",
        "graph = {\n",
        "    'e': {'e': 0, 'k': 0.9, 'a': 0.6, 'i': 0.8, 'p': 0.7},\n",
        "    'k': {'e': 0.9, 'k': 0, 'a': 1.3, 'i': 1.5, 'p': 1.3},\n",
        "    'a': {'e': 0.6, 'k': 1.3, 'a': 0, 'i': 0.2, 'p': 0.3},\n",
        "    'i': {'e': 0.8, 'k': 1.5, 'a': 0.2, 'i': 0, 'p': 0.2},\n",
        "    'p': {'e': 0.7, 'k': 1.3, 'a': 0.3, 'i': 0.2, 'p': 0}\n",
        "}\n",
        "\n",
        "# Inisialisasi\n",
        "current_location = 'i'  # Lokasi awal (Informatika)\n",
        "path = [current_location]  # Jalur awal\n",
        "total_distance = 0\n",
        "\n",
        "# Fungsi untuk menghitung total jarak jalur\n",
        "def calculate_total_distance(path):\n",
        "    distance = 0\n",
        "    for i in range(len(path) - 1):\n",
        "        distance += graph[path[i]][path[i + 1]]\n",
        "    return distance\n",
        "\n",
        "# Algoritma Hill-Climbing\n",
        "while True:\n",
        "    neighbors = list(graph[current_location].keys())\n",
        "    random.shuffle(neighbors)\n",
        "    best_neighbor = current_location\n",
        "    for neighbor in neighbors:\n",
        "        if graph[current_location][neighbor] < graph[current_location][best_neighbor]:\n",
        "            best_neighbor = neighbor\n",
        "\n",
        "    if graph[current_location][best_neighbor] >= total_distance:\n",
        "        break\n",
        "\n",
        "    path.append(best_neighbor)\n",
        "    total_distance = calculate_total_distance(path)\n",
        "    current_location = best_neighbor\n",
        "\n",
        "print(\"Jalur terpendek:\", \" -> \".join(path))\n",
        "print(\"Total jarak terpendek:\", total_distance)\n"
      ]
    },
    {
      "cell_type": "code",
      "source": [
        "import math\n",
        "\n",
        "# Representasi grafik jarak antar kota yang sudah diperbaiki\n",
        "graph = {\n",
        "    'Arad': {'Zerind': 75, 'Sibiu': 140, 'Timisoara': 118},\n",
        "    'Bucharest': {},\n",
        "    'Craiova': {'Dobreta': 120, 'Rimnicu Vilcea': 146, 'Pitesti': 138},\n",
        "    'Dobreta': {'Mehadia': 75, 'Craiova': 120},\n",
        "    'Eforie': {},\n",
        "    'Fagaras': {'Sibiu': 99, 'Bucharest': 211},\n",
        "    'Giurgiu': {},\n",
        "    'Hirsova': {'Eforie': 86, 'Urziceni': 98},\n",
        "    'Iasi': {'Neamt': 87, 'Vaslui': 92},\n",
        "    'Lugoj': {'Timisoara': 111, 'Mehadia': 70},\n",
        "    'Mehadia': {'Lugoj': 70, 'Dobreta': 75},\n",
        "    'Neamt': {},\n",
        "    'Oradea': {'Zerind': 71, 'Sibiu': 151},\n",
        "    'Pitesti': {'Craiova': 138, 'Rimnicu Vilcea': 97, 'Bucharest': 101},\n",
        "    'Rimnicu Vilcea': {'Sibiu': 80, 'Craiova': 146, 'Pitesti': 97},\n",
        "    'Sibiu': {'Fagaras': 99, 'Rimnicu Vilcea': 80, 'Arad': 140, 'Oradea': 151},\n",
        "    'Timisoara': {'Arad': 118, 'Lugoj': 111},\n",
        "    'Urziceni': {'Hirsova': 98, 'Vaslui': 142, 'Bucharest': 85},\n",
        "    'Vaslui': {'Iasi': 92, 'Urziceni': 142},\n",
        "    'Zerind': {'Arad': 75, 'Oradea': 71}\n",
        "}\n",
        "\n",
        "# Heuristic function using straight-line distance to Bucharest\n",
        "heuristic = {\n",
        "    'Arad': 366,\n",
        "    'Bucharest': 0,\n",
        "    'Craiova': 160,\n",
        "    'Dobreta': 242,\n",
        "    'Eforie': 161,\n",
        "    'Fagaras': 176,\n",
        "    'Giurgiu': 77,\n",
        "    'Hirsova': 151,\n",
        "    'Iasi': 226,\n",
        "    'Lugoj': 244,\n",
        "    'Mehadia': 241,\n",
        "    'Neamt': 234,\n",
        "    'Oradea': 380,\n",
        "    'Pitesti': 100,\n",
        "    'Rimnicu Vilcea': 193,\n",
        "    'Sibiu': 253,\n",
        "    'Timisoara': 329,\n",
        "    'Urziceni': 80,\n",
        "    'Vaslui': 199,\n",
        "    'Zerind': 374\n",
        "}\n",
        "\n",
        "# A* Search with heuristic\n",
        "def astar(graph, start, goal, heuristic):\n",
        "    open_set = [(start, [start], 0, heuristic[start])]\n",
        "    while open_set:\n",
        "        open_set.sort(key=lambda x: x[2] + x[3])\n",
        "        (node, path, cost, h) = open_set.pop(0)\n",
        "        if node == goal:\n",
        "            return path\n",
        "        for neighbor in set(graph[node].keys()) - set(path):\n",
        "            new_cost = cost + graph[node][neighbor]\n",
        "            open_set.append((neighbor, path + [neighbor], new_cost, heuristic[neighbor]))\n",
        "\n",
        "# Contoh penggunaan A* Search\n",
        "start_city = 'Arad'\n",
        "goal_city = 'Bucharest'\n",
        "\n",
        "astar_path = astar(graph, start_city, goal_city, heuristic)\n",
        "\n",
        "print(\"Jalur terpendek dari\", start_city, \"ke\", goal_city, \"dengan A*:\", \" -> \".join(astar_path))\n"
      ],
      "metadata": {
        "colab": {
          "base_uri": "https://localhost:8080/"
        },
        "id": "mp2Bk5yo8Wyu",
        "outputId": "f7ce65a4-146e-4fea-c6b6-903a6c216178"
      },
      "execution_count": 6,
      "outputs": [
        {
          "output_type": "stream",
          "name": "stdout",
          "text": [
            "Jalur terpendek dari Arad ke Bucharest dengan A*: Arad -> Sibiu -> Rimnicu Vilcea -> Pitesti -> Bucharest\n"
          ]
        }
      ]
    }
  ]
}